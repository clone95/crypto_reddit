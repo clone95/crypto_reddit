{
 "cells": [
  {
   "cell_type": "code",
   "execution_count": 11,
   "source": [
    "import pandas as pd \r\n",
    "\r\n",
    "filename = \"data/raw/daily_thread/CryptoCurrency07-09-2021.txt\"\r\n",
    "\r\n",
    "raw_text = open(filename, \"r\").read()\r\n",
    "lines = raw_text.split('\\n')\r\n",
    "lines = [x for x in lines if not x == '']\r\n"
   ],
   "outputs": [],
   "metadata": {}
  },
  {
   "cell_type": "code",
   "execution_count": 12,
   "source": [
    "lines[:10]"
   ],
   "outputs": [
    {
     "output_type": "execute_result",
     "data": {
      "text/plain": [
       "['**Today is the last day to vote on governance polls!**',\n",
       " 'https://www.reddit.com/r/CryptoCurrency/comments/pglb6g/moon_week_17_a_new_moons_feature_new_governance/',\n",
       " \"If you don't see the polls at the bottom of the proposal, try from a different browser or platform, or try again later\",\n",
       " 'Seeing people in here bummed about their coins only doing 15% in a month.  Lemme tell you about a little thing called stocks...',\n",
       " \"today, i tendered my resignation letter. got in $FTM at 0.015. We're at $1.70. I love ya'll crypto brothers.\",\n",
       " '*BTC goes 2% down*',\n",
       " \"Alts: guess I'll die\",\n",
       " \"I bought SOL at $40 now I'm shitting myself, when tf do I sell\",\n",
       " 'Haha that e-mail Kraken just send: \"optimism is returning to the crypto markets now that signs of a bear market have subsided.\"  Great timing there marketing division.',\n",
       " 'Meh. After May I’m totally numb to this shit lol.']"
      ]
     },
     "metadata": {},
     "execution_count": 12
    }
   ],
   "metadata": {}
  },
  {
   "cell_type": "code",
   "execution_count": null,
   "source": [],
   "outputs": [],
   "metadata": {}
  }
 ],
 "metadata": {
  "orig_nbformat": 4,
  "language_info": {
   "name": "python",
   "version": "3.7.0",
   "mimetype": "text/x-python",
   "codemirror_mode": {
    "name": "ipython",
    "version": 3
   },
   "pygments_lexer": "ipython3",
   "nbconvert_exporter": "python",
   "file_extension": ".py"
  },
  "kernelspec": {
   "name": "python3",
   "display_name": "Python 3.7.0 64-bit"
  },
  "interpreter": {
   "hash": "42d7b6d18a47956550b419b532d3d9d25cb62363c6b268dbf084aa94173ab148"
  }
 },
 "nbformat": 4,
 "nbformat_minor": 2
}